{
 "cells": [
  {
   "cell_type": "code",
   "execution_count": null,
   "id": "c78983d0",
   "metadata": {
    "collapsed": false
   },
   "outputs": [],
   "source": [
    "import re\n",
    "import numpy as np\n",
    "import pandas as pd\n",
    "\n",
    "def assign_state_and_value(s, val):\n",
    "    m = re.match(r'(.+) [–-] (.+)', s.state)\n",
    "    if not m:\n",
    "        print(s.state)\n",
    "    s['state'] = m[1].strip()\n",
    "    s[val] = m[2]\n",
    "    return s\n",
    "\n",
    "def replace_with_length(df, cols):\n",
    "    for col in cols:\n",
    "        df = df.assign(**{col: df[col].map(lambda x: float(len(x)) if not pd.isna(x) else x)})\n",
    "    return df\n",
    "\n",
    "cases = pd.read_csv('raw/sheet-1.csv')\n",
    "vaxed = pd.read_csv('raw/sheet-2.csv')\n",
    "\n",
    "cases = cases.apply(lambda s: assign_state_and_value(s, 'covid_cases'), 1)\n",
    "cases['covid_cases'] = cases.covid_cases.map(lambda s: int(s))\n",
    "\n",
    "vaxed = vaxed.apply(lambda s: assign_state_and_value(s, 'vaxed'), 1)\n",
    "vaxed['vaxed'] = vaxed.vaxed.map(lambda s: float(re.sub('%', '', s)))\n",
    "\n",
    "check_cols = ['political_will', 'technical_capacity', 'social_media']\n",
    "\n",
    "df = cases.merge(vaxed, how='outer', on=['state', 'political_will', 'technical_capacity', 'social_media', 'zone'])\n",
    "df = df.fillna('⦸')\n",
    "df = df.replace('FCT', 'Federal Capital Territory')"
   ]
  },
  {
   "cell_type": "code",
   "execution_count": null,
   "id": "98a4efd7",
   "metadata": {
    "collapsed": false
   },
   "outputs": [],
   "source": [
    "from environs import Env\n",
    "from adopt.malaria import load_basics, get_db_conf\n",
    "from adopt.campaign_queries import get_campaigns_for_user, create_campaign_confs, create_campaign_for_user\n",
    "\n",
    "env = Env()\n",
    "env.read_env('.env', override=True)\n",
    "db_conf = get_db_conf(env)\n",
    "\n",
    "USER = \"malaria2@vlab.digital\"\n",
    "CAMPAIGN = \"nigeria-healthworkers-preliminary\"\n",
    "AD_ACCOUNT = '2661361017437088'\n",
    "\n",
    "CAMPAIGNID = next(c['id'] for c in get_campaigns_for_user(USER, db_conf) \n",
    "                  if c['name'] == CAMPAIGN)\n",
    "\n",
    "userinfo, config, db_conf, state, m, confs = load_basics(CAMPAIGNID, env)"
   ]
  },
  {
   "cell_type": "code",
   "execution_count": null,
   "id": "0a39157e",
   "metadata": {
    "collapsed": false
   },
   "outputs": [],
   "source": [
    "def get_api(env, token: str) -> FacebookAdsApi:\n",
    "    session = FacebookSession(env(\"FACEBOOK_APP_ID\"), env(\"FACEBOOK_APP_SECRET\"), token)\n",
    "    api = FacebookAdsApi(session)\n",
    "    return api"
   ]
  },
  {
   "cell_type": "code",
   "execution_count": null,
   "id": "f778eb04",
   "metadata": {
    "collapsed": false
   },
   "outputs": [],
   "source": [
    "from facebook_business.adobjects.targetingsearch import TargetingSearch\n",
    "\n",
    "state_locs = [(s, TargetingSearch.search({'type': 'adgeolocation', 'q': s, 'location_types': ['region'], 'country_code': 'NG'}, api=state.api))\n",
    "             for s in df.state]\n"
   ]
  },
  {
   "cell_type": "code",
   "execution_count": 186,
   "id": "5638ace8",
   "metadata": {
    "collapsed": false
   },
   "outputs": [],
   "source": [
    "state_targets = [(name, l[0]) for name, l in state_locs]"
   ]
  },
  {
   "cell_type": "code",
   "execution_count": 224,
   "id": "235a04d0",
   "metadata": {
    "collapsed": false
   },
   "outputs": [],
   "source": [
    "from adopt.facebook.state import CampaignState, get_api\n",
    "\n",
    "template_state = CampaignState(userinfo.token, \n",
    "                               get_api(env, userinfo.token), \n",
    "                               AD_ACCOUNT, \n",
    "                               'scratch')"
   ]
  },
  {
   "cell_type": "code",
   "execution_count": 228,
   "id": "b2c2873d",
   "metadata": {
    "collapsed": false
   },
   "outputs": [],
   "source": [
    "hcp_spec = template_state.adsets[0]['targeting']['flexible_spec']"
   ]
  },
  {
   "cell_type": "code",
   "execution_count": null,
   "id": "d9d79e81",
   "metadata": {
    "collapsed": false
   },
   "outputs": [],
   "source": [
    "TargetingSearch.search({'type': 'adgeolocation', 'q': 'Federal Capital Territory', 'location_types': ['region'], 'country_code': 'NG'}, api=state.api)"
   ]
  },
  {
   "cell_type": "code",
   "execution_count": 239,
   "id": "e4fde8ee",
   "metadata": {
    "collapsed": false
   },
   "outputs": [],
   "source": [
    "\n",
    "def estimate_reach(name, targeting_region, gender=0, hcp=False):\n",
    "    spec = {\n",
    "        'geo_locations':{\n",
    "            'regions': [targeting_region.export_all_data()]\n",
    "        },\n",
    "        'genders': [gender]\n",
    "    }\n",
    "\n",
    "    if hcp == True:\n",
    "        spec['flexible_spec'] = hcp_spec\n",
    "\n",
    "\n",
    "    params =  { 'targeting_spec': spec }\n",
    "    est = state.account.get_reach_estimate(params=params)\n",
    "\n",
    "    users = est[0]['users']\n",
    "    return name, users\n",
    "\n",
    "\n",
    "reach = {\n",
    "    'fb_reach': [estimate_reach(*s, 0, False) for s in state_targets],\n",
    "    'hcp_reach': [estimate_reach(*s, 0, True) for s in state_targets],\n",
    "    'hcp_reach_female': [estimate_reach(*s, 2, True) for s in state_targets]\n",
    "}"
   ]
  },
  {
   "cell_type": "code",
   "execution_count": 361,
   "id": "3d9aa3b4",
   "metadata": {
    "collapsed": false
   },
   "outputs": [],
   "source": [
    "reach_df = pd.DataFrame({k: dict(v) for k, v in reach.items()}).reset_index().rename(columns={'index': 'state'})\n",
    "\n",
    "dd = df.merge(reach_df).sort_values('hcp_reach', ascending=False).reset_index(drop=True)"
   ]
  },
  {
   "cell_type": "code",
   "execution_count": 362,
   "id": "f496b28b",
   "metadata": {
    "collapsed": false
   },
   "outputs": [],
   "source": [
    "pop = pd.read_csv('../../power/nga_admpop_adm1_2020.csv')\n",
    "pop = pop[pop.ADM1_NAME.notna()]\n",
    "pop['state'] = pop.ADM1_NAME.str.title()\n",
    "pop = pop[['state', 'T_TL']]"
   ]
  },
  {
   "cell_type": "code",
   "execution_count": 363,
   "id": "9333a303",
   "metadata": {
    "collapsed": false
   },
   "outputs": [],
   "source": [
    "dd.loc[dd.state == 'Nassarawa', 'state'] = 'Nasarawa'\n",
    "dd.loc[dd.state == 'Akwa-Ibom', 'state'] = 'Akwa Ibom'"
   ]
  },
  {
   "cell_type": "code",
   "execution_count": null,
   "id": "c3d87434",
   "metadata": {
    "collapsed": false
   },
   "outputs": [],
   "source": [
    "dd = dd.merge(pop, how='left')\n",
    "dd['population'] = ((dd.T_TL / 100_000).round(0) * 100_000).astype(int)\n",
    "dd = dd.drop(columns=['T_TL'])"
   ]
  },
  {
   "cell_type": "code",
   "execution_count": 365,
   "id": "8a1d8224",
   "metadata": {
    "collapsed": false
   },
   "outputs": [],
   "source": [
    "pov = pd.read_excel('raw/nga-subnational-results-mpi-2020.xlsx', skiprows=9, usecols=range(6,9), header=None, names=['state', 'country_average', 'poverty_index']).drop(columns=['country_average'])\n",
    "pov.loc[pov.state == 'FCT', 'state'] = 'Federal Capital Territory'\n",
    "pov['poverty_index'] = pov.poverty_index.round(2)"
   ]
  },
  {
   "cell_type": "code",
   "execution_count": 366,
   "id": "a575e754",
   "metadata": {
    "collapsed": false
   },
   "outputs": [],
   "source": [
    "# pd.read_csv('../../power/nigeriahealthfacilities.csv')"
   ]
  },
  {
   "cell_type": "code",
   "execution_count": 367,
   "id": "c56da5d1",
   "metadata": {
    "collapsed": false
   },
   "outputs": [],
   "source": [
    "dd = dd.merge(pov, how='left')"
   ]
  },
  {
   "cell_type": "code",
   "execution_count": 375,
   "id": "196e2abe",
   "metadata": {
    "collapsed": false
   },
   "outputs": [],
   "source": [
    "dd = dd.sort_values(['hcp_reach', 'fb_reach'], ascending=False)\n",
    "\n",
    "dd['fb_penetration'] = (dd.fb_reach / dd.population).round(2)\n",
    "dd['vaxed'] = (dd.vaxed / 100).round(2)"
   ]
  },
  {
   "cell_type": "code",
   "execution_count": null,
   "id": "d3da121d",
   "metadata": {
    "collapsed": false
   },
   "outputs": [],
   "source": [
    "dd"
   ]
  },
  {
   "cell_type": "code",
   "execution_count": 377,
   "id": "c2c1ae9f",
   "metadata": {
    "collapsed": false
   },
   "outputs": [],
   "source": [
    "dd.to_csv('nigeria-hcp-state-data.csv', index=False)"
   ]
  },
  {
   "cell_type": "code",
   "execution_count": 386,
   "id": "2a6c0fe1",
   "metadata": {
    "collapsed": false
   },
   "outputs": [],
   "source": [
    "dat = dd[dd.vaxed <= 1.0]"
   ]
  },
  {
   "cell_type": "code",
   "execution_count": null,
   "id": "f186298c",
   "metadata": {
    "collapsed": false
   },
   "outputs": [],
   "source": [
    "dat"
   ]
  },
  {
   "cell_type": "code",
   "execution_count": 391,
   "id": "b2fb0f33",
   "metadata": {
    "collapsed": false
   },
   "outputs": [
    {
     "data": {
      "text/plain": [
       "0.054680085970142636"
      ]
     },
     "execution_count": 391,
     "metadata": {},
     "output_type": "execute_result"
    }
   ],
   "source": [
    "w = dat.population / dat.population.sum()\n",
    "p = dat.vaxed @ w\n",
    "\n",
    "dat.vaxed.var() / (p*(1-p))"
   ]
  },
  {
   "cell_type": "code",
   "execution_count": null,
   "id": "f27b69b5",
   "metadata": {
    "collapsed": false
   },
   "outputs": [],
   "source": [
    "# df = df.replace('⦸', np.nan)\n",
    "# df = replace_with_length(df, check_cols)\n",
    "\n",
    "# df\n",
    "\n"
   ]
  }
 ],
 "metadata": {
  "kernelspec": {
   "argv": [
    "python",
    "-m",
    "ipykernel_launcher",
    "-f",
    "{connection_file}"
   ],
   "display_name": "Python 3",
   "env": null,
   "interrupt_mode": "signal",
   "language": "python",
   "metadata": null,
   "name": "python3"
  },
  "name": "nigeria-hcp-state-selection.ipynb"
 },
 "nbformat": 4,
 "nbformat_minor": 5
}
